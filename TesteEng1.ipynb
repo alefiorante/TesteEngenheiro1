{
  "nbformat": 4,
  "nbformat_minor": 0,
  "metadata": {
    "colab": {
      "provenance": [],
      "mount_file_id": "1B7VnZQC0ThzRNkkCbMRc5u1UrmFEyf0i",
      "authorship_tag": "ABX9TyPi5nt8ST+fomB974+0CCWc",
      "include_colab_link": true
    },
    "kernelspec": {
      "name": "python3",
      "display_name": "Python 3"
    },
    "language_info": {
      "name": "python"
    }
  },
  "cells": [
    {
      "cell_type": "markdown",
      "metadata": {
        "id": "view-in-github",
        "colab_type": "text"
      },
      "source": [
        "<a href=\"https://colab.research.google.com/github/alefiorante/TesteEngenheiro1/blob/main/TesteEng1.ipynb\" target=\"_parent\"><img src=\"https://colab.research.google.com/assets/colab-badge.svg\" alt=\"Open In Colab\"/></a>"
      ]
    },
    {
      "cell_type": "code",
      "source": [
        "from google.colab import files\n",
        "#from google.colab import drive\n",
        "#drive.mount('/content/drive')\n",
        "import io \n",
        "\n",
        "uploaded = files.upload()\n",
        "file_name = next(iter(uploaded))\n",
        "file_name"
      ],
      "metadata": {
        "colab": {
          "base_uri": "https://localhost:8080/",
          "height": 91
        },
        "id": "h2U8o2Id55yv",
        "outputId": "81da127e-414a-4f0f-808f-889fcdb7ab76"
      },
      "execution_count": 134,
      "outputs": [
        {
          "output_type": "display_data",
          "data": {
            "text/plain": [
              "<IPython.core.display.HTML object>"
            ],
            "text/html": [
              "\n",
              "     <input type=\"file\" id=\"files-e0f77a49-1e18-4571-a26b-e0b299f65d27\" name=\"files[]\" multiple disabled\n",
              "        style=\"border:none\" />\n",
              "     <output id=\"result-e0f77a49-1e18-4571-a26b-e0b299f65d27\">\n",
              "      Upload widget is only available when the cell has been executed in the\n",
              "      current browser session. Please rerun this cell to enable.\n",
              "      </output>\n",
              "      <script>// Copyright 2017 Google LLC\n",
              "//\n",
              "// Licensed under the Apache License, Version 2.0 (the \"License\");\n",
              "// you may not use this file except in compliance with the License.\n",
              "// You may obtain a copy of the License at\n",
              "//\n",
              "//      http://www.apache.org/licenses/LICENSE-2.0\n",
              "//\n",
              "// Unless required by applicable law or agreed to in writing, software\n",
              "// distributed under the License is distributed on an \"AS IS\" BASIS,\n",
              "// WITHOUT WARRANTIES OR CONDITIONS OF ANY KIND, either express or implied.\n",
              "// See the License for the specific language governing permissions and\n",
              "// limitations under the License.\n",
              "\n",
              "/**\n",
              " * @fileoverview Helpers for google.colab Python module.\n",
              " */\n",
              "(function(scope) {\n",
              "function span(text, styleAttributes = {}) {\n",
              "  const element = document.createElement('span');\n",
              "  element.textContent = text;\n",
              "  for (const key of Object.keys(styleAttributes)) {\n",
              "    element.style[key] = styleAttributes[key];\n",
              "  }\n",
              "  return element;\n",
              "}\n",
              "\n",
              "// Max number of bytes which will be uploaded at a time.\n",
              "const MAX_PAYLOAD_SIZE = 100 * 1024;\n",
              "\n",
              "function _uploadFiles(inputId, outputId) {\n",
              "  const steps = uploadFilesStep(inputId, outputId);\n",
              "  const outputElement = document.getElementById(outputId);\n",
              "  // Cache steps on the outputElement to make it available for the next call\n",
              "  // to uploadFilesContinue from Python.\n",
              "  outputElement.steps = steps;\n",
              "\n",
              "  return _uploadFilesContinue(outputId);\n",
              "}\n",
              "\n",
              "// This is roughly an async generator (not supported in the browser yet),\n",
              "// where there are multiple asynchronous steps and the Python side is going\n",
              "// to poll for completion of each step.\n",
              "// This uses a Promise to block the python side on completion of each step,\n",
              "// then passes the result of the previous step as the input to the next step.\n",
              "function _uploadFilesContinue(outputId) {\n",
              "  const outputElement = document.getElementById(outputId);\n",
              "  const steps = outputElement.steps;\n",
              "\n",
              "  const next = steps.next(outputElement.lastPromiseValue);\n",
              "  return Promise.resolve(next.value.promise).then((value) => {\n",
              "    // Cache the last promise value to make it available to the next\n",
              "    // step of the generator.\n",
              "    outputElement.lastPromiseValue = value;\n",
              "    return next.value.response;\n",
              "  });\n",
              "}\n",
              "\n",
              "/**\n",
              " * Generator function which is called between each async step of the upload\n",
              " * process.\n",
              " * @param {string} inputId Element ID of the input file picker element.\n",
              " * @param {string} outputId Element ID of the output display.\n",
              " * @return {!Iterable<!Object>} Iterable of next steps.\n",
              " */\n",
              "function* uploadFilesStep(inputId, outputId) {\n",
              "  const inputElement = document.getElementById(inputId);\n",
              "  inputElement.disabled = false;\n",
              "\n",
              "  const outputElement = document.getElementById(outputId);\n",
              "  outputElement.innerHTML = '';\n",
              "\n",
              "  const pickedPromise = new Promise((resolve) => {\n",
              "    inputElement.addEventListener('change', (e) => {\n",
              "      resolve(e.target.files);\n",
              "    });\n",
              "  });\n",
              "\n",
              "  const cancel = document.createElement('button');\n",
              "  inputElement.parentElement.appendChild(cancel);\n",
              "  cancel.textContent = 'Cancel upload';\n",
              "  const cancelPromise = new Promise((resolve) => {\n",
              "    cancel.onclick = () => {\n",
              "      resolve(null);\n",
              "    };\n",
              "  });\n",
              "\n",
              "  // Wait for the user to pick the files.\n",
              "  const files = yield {\n",
              "    promise: Promise.race([pickedPromise, cancelPromise]),\n",
              "    response: {\n",
              "      action: 'starting',\n",
              "    }\n",
              "  };\n",
              "\n",
              "  cancel.remove();\n",
              "\n",
              "  // Disable the input element since further picks are not allowed.\n",
              "  inputElement.disabled = true;\n",
              "\n",
              "  if (!files) {\n",
              "    return {\n",
              "      response: {\n",
              "        action: 'complete',\n",
              "      }\n",
              "    };\n",
              "  }\n",
              "\n",
              "  for (const file of files) {\n",
              "    const li = document.createElement('li');\n",
              "    li.append(span(file.name, {fontWeight: 'bold'}));\n",
              "    li.append(span(\n",
              "        `(${file.type || 'n/a'}) - ${file.size} bytes, ` +\n",
              "        `last modified: ${\n",
              "            file.lastModifiedDate ? file.lastModifiedDate.toLocaleDateString() :\n",
              "                                    'n/a'} - `));\n",
              "    const percent = span('0% done');\n",
              "    li.appendChild(percent);\n",
              "\n",
              "    outputElement.appendChild(li);\n",
              "\n",
              "    const fileDataPromise = new Promise((resolve) => {\n",
              "      const reader = new FileReader();\n",
              "      reader.onload = (e) => {\n",
              "        resolve(e.target.result);\n",
              "      };\n",
              "      reader.readAsArrayBuffer(file);\n",
              "    });\n",
              "    // Wait for the data to be ready.\n",
              "    let fileData = yield {\n",
              "      promise: fileDataPromise,\n",
              "      response: {\n",
              "        action: 'continue',\n",
              "      }\n",
              "    };\n",
              "\n",
              "    // Use a chunked sending to avoid message size limits. See b/62115660.\n",
              "    let position = 0;\n",
              "    do {\n",
              "      const length = Math.min(fileData.byteLength - position, MAX_PAYLOAD_SIZE);\n",
              "      const chunk = new Uint8Array(fileData, position, length);\n",
              "      position += length;\n",
              "\n",
              "      const base64 = btoa(String.fromCharCode.apply(null, chunk));\n",
              "      yield {\n",
              "        response: {\n",
              "          action: 'append',\n",
              "          file: file.name,\n",
              "          data: base64,\n",
              "        },\n",
              "      };\n",
              "\n",
              "      let percentDone = fileData.byteLength === 0 ?\n",
              "          100 :\n",
              "          Math.round((position / fileData.byteLength) * 100);\n",
              "      percent.textContent = `${percentDone}% done`;\n",
              "\n",
              "    } while (position < fileData.byteLength);\n",
              "  }\n",
              "\n",
              "  // All done.\n",
              "  yield {\n",
              "    response: {\n",
              "      action: 'complete',\n",
              "    }\n",
              "  };\n",
              "}\n",
              "\n",
              "scope.google = scope.google || {};\n",
              "scope.google.colab = scope.google.colab || {};\n",
              "scope.google.colab._files = {\n",
              "  _uploadFiles,\n",
              "  _uploadFilesContinue,\n",
              "};\n",
              "})(self);\n",
              "</script> "
            ]
          },
          "metadata": {}
        },
        {
          "output_type": "stream",
          "name": "stdout",
          "text": [
            "Saving ANAC_20211220_203643.csv to ANAC_20211220_203643.csv\n"
          ]
        },
        {
          "output_type": "execute_result",
          "data": {
            "text/plain": [
              "'ANAC_20211220_203643.csv'"
            ],
            "application/vnd.google.colaboratory.intrinsic+json": {
              "type": "string"
            }
          },
          "metadata": {},
          "execution_count": 134
        }
      ]
    },
    {
      "cell_type": "code",
      "source": [
        "import pandas as pd\n",
        "\n",
        "#path = \"/content/drive/MyDrive/Colab Notebooks/ANAC_20211220_203627 (1).csv\"\n",
        "#df = pd.read_csv(path)\n",
        "\n",
        "#df.describe\n",
        "\n",
        "#gfile_name = io.StringIO(uploaded[file_name].decode('ISO 8859-1').strip())\n",
        "#df = pd.read_csv(gfile_name)\n",
        "#df\n",
        "#print pd.read_csv('/content/drive/MyDrive/ANAC_20211220_203627 (1).csv')\n",
        "\n",
        "#uploaded[file_name]\n",
        "#uploaded[file_name].decode('ISO 8859-1')\n",
        "uploaded[file_name].decode('ISO 8859-1').strip()\n",
        "#io.StringIO(uploaded[file_name].decode('ISO 8859-1').strip())\n",
        "\n"
      ],
      "metadata": {
        "colab": {
          "base_uri": "https://localhost:8080/",
          "height": 192
        },
        "id": "kcvu-QolFXl-",
        "outputId": "ae3ecab8-5bc8-4f8f-b9c5-a357c689e184"
      },
      "execution_count": 136,
      "outputs": [
        {
          "output_type": "execute_result",
          "data": {
            "text/plain": [
              "'RazÃ£o Social;ICAO IATA;CNPJ;Atividades AÃ©reas;EndereÃ§o Sede;Telefone;E-Mail;DecisÃ£o Operacional;Data DecisÃ£o Operacional;Validade Operacional\\nAEROSUL TÃ\\x81XI AÃ\\x89REO LTDA (EX.: AUSTEN TÃ\\x81XI AÃ\\x89REO LTDA);ASO 2S;27.315.694/0001-02;SERVIÃ\\x87OS AÃ\\x89REOS PÃ\\x9aBLICOS, TÃ\\x81XI-AÃ\\x89REO, TRANSPORTE AÃ\\x89REO NÃ\\x83O REGULAR, TRANSPORTE AÃ\\x89REO REGULAR;RODOVIA PR 218, KM 7, JARDIM UNIVERSITÃ\\x81RIO, AEROPORTO MUNICIPAL ALBERTO BERTELLI , 86.702-670, ARAPONGAS-PR;(43) 3176-4030;operacoes@aerosul.com.br;DECISÃ\\x83O NÂº 282;10/02/2021;\\nATA - AEROTÃ\\x81XI ABAETÃ\\x89 LTDA.;ABJ;14.674.451/0001-19;TÃ\\x81XI-AÃ\\x89REO, TRANSPORTE AÃ\\x89REO NÃ\\x83O REGULAR, TRANSPORTE AÃ\\x89REO REGULAR; PÃ\\x87A. GAGO COUTINHO, S/N, AEROPORTO INTERNACIONAL DE SALVADOR DEPUTADO LUÃ\\x8dS EDUARDO MAGALHÃ\\x83ES - HANGAR - AEROPORTO, 41.510-045, SALVADOR-BA;(71) 34629600 / (71) 996643563;guilherme@abaete.com.br     ;DECISÃ\\x83O NÂº 36;05/03/2020;\\nOMNI TÃ\\x81XI AÃ\\x89REO S.A.;OMI O1;03.670.763/0001-38;AEROFOTOGRAFIA, AEROINSPEÃ\\x87Ã\\x83O, SERVIÃ\\x87OS AÃ\\x89REOS PÃ\\x9aBLICOS, TÃ\\x81XI-AÃ\\x89REO, TRANSPORTE AÃ\\x89REO NÃ\\x83O REGULAR;AV. AYRTON SENNA, 2541 RUA F1 LOTE 40 - AEROPORTO DE JACAREPAGUÃ\\x81 - BARRA DA TIJUCA, 22.775-002, RIO DE JANEIRO-RJ;(61) 98335-3444;lira@plfconsultoria.com.br;DECISÃ\\x83O NÂº 100;10/07/2019;12/07/2024\\nPRIME TÃ\\x81XI AIR LTDA;;23.568.370/0001-25;TÃ\\x81XI-AÃ\\x89REO, TRANSPORTE AÃ\\x89REO NÃ\\x83O REGULAR, SERVIÃ\\x87OS AÃ\\x89REOS PÃ\\x9aBLICOS;AL. RIO NEGRO, 585 - BLOCO A - CJ.95 - SALA E, 06.454-000, BARUERI-SP;(11) 41958307 / (11) 41958308;mmatta@primefractionclub.com.br;DECISÃ\\x83O NÂº 237;17/12/2020;18/12/2025\\nSIDERAL LINHAS AÃ\\x89REAS LTDA.;SID 0S;10.919.908/0001-57;TRANSPORTE AÃ\\x89REO NÃ\\x83O REGULAR, TRANSPORTE AÃ\\x89REO REGULAR;RODOVIA CONTORNO LESTE BR-116, NÂº 9.119, 3Âº ANDAR, SALA 01, BAIRRO COSTEIRA. CAIXA POSTAL NÂº 1054, 83.015-162, SÃ\\x83O JOSÃ\\x89 DOS PINHAIS-PR;(41) 3116-9000 / (41) 3116-9059;office@siderallinhasaereas.com.br  ;DECISÃ\\x83O NÂº 37;05/03/2020;06/03/2025'"
            ],
            "application/vnd.google.colaboratory.intrinsic+json": {
              "type": "string"
            }
          },
          "metadata": {},
          "execution_count": 136
        }
      ]
    }
  ]
}